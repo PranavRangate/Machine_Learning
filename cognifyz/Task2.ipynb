{
 "cells": [
  {
   "cell_type": "code",
   "execution_count": 1,
   "id": "47190d8a-aa95-4f8f-8daa-1748b4ccd73d",
   "metadata": {},
   "outputs": [],
   "source": [
    "import pandas as pd\n",
    "from sklearn.feature_extraction.text import CountVectorizer\n",
    "from sklearn.metrics.pairwise import cosine_similarity\n"
   ]
  },
  {
   "cell_type": "code",
   "execution_count": 3,
   "id": "9bba0a36-41fc-4732-a72d-9b92e36d1e16",
   "metadata": {},
   "outputs": [],
   "source": [
    "dataset = pd.read_csv('Dataset .csv')\n"
   ]
  },
  {
   "cell_type": "code",
   "execution_count": 5,
   "id": "68273016-f5a0-4ad4-8889-efdc0d4bfd80",
   "metadata": {},
   "outputs": [],
   "source": [
    "dataset['Cuisines'] = dataset['Cuisines'].fillna('Unknown')\n"
   ]
  },
  {
   "cell_type": "code",
   "execution_count": 7,
   "id": "cd2e53fc-1f5a-4548-8623-1a68b28d40d3",
   "metadata": {},
   "outputs": [],
   "source": [
    "features = ['Cuisines', 'Price range', 'Has Table booking', 'Has Online delivery']\n",
    "for feature in features:\n",
    "    dataset[feature] = dataset[feature].astype(str)\n",
    "dataset['combined_features'] = dataset[features].apply(lambda x: ' '.join(x), axis=1)\n"
   ]
  },
  {
   "cell_type": "code",
   "execution_count": 9,
   "id": "8416e286-1169-4dff-9457-fdf5b8954cb4",
   "metadata": {},
   "outputs": [],
   "source": [
    "vectorizer = CountVectorizer()\n",
    "feature_matrix = vectorizer.fit_transform(dataset['combined_features'])"
   ]
  },
  {
   "cell_type": "code",
   "execution_count": 11,
   "id": "186a37dc-5736-4d90-ba24-c32df106ff42",
   "metadata": {},
   "outputs": [],
   "source": [
    "cosine_sim = cosine_similarity(feature_matrix)"
   ]
  },
  {
   "cell_type": "code",
   "execution_count": 12,
   "id": "263d9432-cc4a-40e1-96ce-216c666da8b9",
   "metadata": {},
   "outputs": [],
   "source": [
    "def get_recommendations(restaurant_name, top_n=5):\n",
    "    if restaurant_name not in dataset['Restaurant Name'].values:\n",
    "        return \"Restaurant not found in the dataset.\"\n",
    "    \n",
    "    idx = dataset[dataset['Restaurant Name'] == restaurant_name].index[0]\n",
    "    similarity_scores = list(enumerate(cosine_sim[idx]))\n",
    "    similarity_scores = sorted(similarity_scores, key=lambda x: x[1], reverse=True)\n",
    "    top_indices = [i[0] for i in similarity_scores[1:top_n+1]]\n",
    "    return dataset.iloc[top_indices][['Restaurant Name', 'Cuisines', 'Price range']]\n"
   ]
  },
  {
   "cell_type": "code",
   "execution_count": 17,
   "id": "f560f454-354b-4fee-8725-06a599efee79",
   "metadata": {},
   "outputs": [
    {
     "name": "stdout",
     "output_type": "stream",
     "text": [
      "Recommended Restaurants:\n",
      "\n",
      "                              Restaurant Name          Cuisines Price range\n",
      "4993                          Tokyo Mon Amour  Japanese, French           4\n",
      "1                            Izakaya Kikufuji          Japanese           3\n",
      "1188  Club Tokyo - Best Western Skycity Hotel          Japanese           3\n",
      "1466                                  Kuuraku          Japanese           3\n",
      "1517                                 Daikichi          Japanese           3\n",
      "1537                                  Komachi          Japanese           3\n",
      "2171                                    Tokyo          Japanese           3\n",
      "2189                               PiccoLicko          Desserts           1\n",
      "2944    Chocolatiers - The Chocolate Boutique          Desserts           1\n",
      "3198         Fluffles - The Fluffy Waffle Co.          Desserts           1\n"
     ]
    }
   ],
   "source": [
    "recommendations = get_recommendations(\"Le Petit Souffle\", top_n=10)\n",
    "print(\"Recommended Restaurants:\\n\")\n",
    "print(recommendations)"
   ]
  },
  {
   "cell_type": "code",
   "execution_count": null,
   "id": "289c6ac5-290a-401a-94fc-3aa5d3dab332",
   "metadata": {},
   "outputs": [],
   "source": []
  }
 ],
 "metadata": {
  "kernelspec": {
   "display_name": "Python 3 (ipykernel)",
   "language": "python",
   "name": "python3"
  },
  "language_info": {
   "codemirror_mode": {
    "name": "ipython",
    "version": 3
   },
   "file_extension": ".py",
   "mimetype": "text/x-python",
   "name": "python",
   "nbconvert_exporter": "python",
   "pygments_lexer": "ipython3",
   "version": "3.12.4"
  }
 },
 "nbformat": 4,
 "nbformat_minor": 5
}
